{
  "nbformat": 4,
  "nbformat_minor": 0,
  "metadata": {
    "colab": {
      "provenance": [],
      "gpuType": "T4",
      "name": "MobileNet.ipynb",
      "include_colab_link": true
    },
    "kernelspec": {
      "name": "python3",
      "display_name": "Python 3"
    },
    "language_info": {
      "name": "python"
    },
    "accelerator": "GPU"
  },
  "cells": [
    {
      "cell_type": "markdown",
      "metadata": {
        "id": "view-in-github",
        "colab_type": "text"
      },
      "source": [
        "<a href=\"https://colab.research.google.com/github/IlyaKo4atkov/My-machine-learning-projects/blob/main/MobileNet.ipynb\" target=\"_parent\"><img src=\"https://colab.research.google.com/assets/colab-badge.svg\" alt=\"Open In Colab\"/></a>"
      ]
    },
    {
      "cell_type": "markdown",
      "source": [
        "# Условие задачи: Проведение классификации с использованием предобученной модели MobileNet"
      ],
      "metadata": {
        "id": "083TlCc68OWy"
      }
    },
    {
      "cell_type": "code",
      "execution_count": null,
      "metadata": {
        "id": "7lk_gQKeMC2A"
      },
      "outputs": [],
      "source": [
        "from keras.applications import MobileNet\n",
        "from keras import models\n",
        "from keras.layers import GlobalAveragePooling2D, Dense, Dropout\n",
        "from keras import optimizers\n",
        "\n",
        "def model_maker():\n",
        "    base_model = MobileNet(include_top=False, input_shape = (IMG_WIDTH, IMG_HEIGHT, 3))\n",
        "\n",
        "    for layer in base_model.layers[:]:\n",
        "        layer.trainable = False\n",
        "\n",
        "    input = Input(shape=(IMG_WIDTH, IMG_HEIGHT, 3))\n",
        "    custom_model = base_model(input)\n",
        "    custom_model = GlobalAveragePooling2D()(custom_model)\n",
        "    custom_model = Dense(64, activation='relu')(custom_model)\n",
        "    custom_model = Dropout(0.5)(custom_model)\n",
        "    predictions = Dense(NUM_CLASSES, activation='softmax')(custom_model)\n",
        "\n",
        "    return Model(inputs=input, outputs=predictions)"
      ]
    },
    {
      "cell_type": "code",
      "source": [
        "model_maker.summary()"
      ],
      "metadata": {
        "id": "HhSQ9KCTe7Hl"
      },
      "execution_count": null,
      "outputs": []
    },
    {
      "cell_type": "markdown",
      "source": [
        "# Загрузка набора данных и обучение модели"
      ],
      "metadata": {
        "id": "m9kKni7eJRqn"
      }
    },
    {
      "cell_type": "code",
      "source": [
        "#Загрузка модели\n",
        "from keras.applications import MobileNet\n",
        "base_model = MobileNet(weights='imagenet', include_top=False, input_shape=(150, 150, 3))"
      ],
      "metadata": {
        "colab": {
          "base_uri": "https://localhost:8080/"
        },
        "id": "U6ndzbSwKroL",
        "outputId": "ef384f3c-1455-40d7-e65a-7d044fe6bc49"
      },
      "execution_count": null,
      "outputs": [
        {
          "output_type": "stream",
          "name": "stderr",
          "text": [
            "<ipython-input-1-3cf3642bb09b>:3: UserWarning: `input_shape` is undefined or non-square, or `rows` is not in [128, 160, 192, 224]. Weights for input shape (224, 224) will be loaded as the default.\n",
            "  base_model = MobileNet(weights='imagenet', include_top=False, input_shape=(150, 150, 3))\n"
          ]
        },
        {
          "output_type": "stream",
          "name": "stdout",
          "text": [
            "Downloading data from https://storage.googleapis.com/tensorflow/keras-applications/mobilenet/mobilenet_1_0_224_tf_no_top.h5\n",
            "\u001b[1m17225924/17225924\u001b[0m \u001b[32m━━━━━━━━━━━━━━━━━━━━\u001b[0m\u001b[37m\u001b[0m \u001b[1m0s\u001b[0m 0us/step\n"
          ]
        }
      ]
    },
    {
      "cell_type": "code",
      "source": [
        "!wget https://storage.yandexcloud.net/academy.ai/cat-and-dog.zip\n",
        "# Разархивируем датасета во временную папку 'temp'\n",
        "!unzip -qo \"cat-and-dog\" -d ./temp\n",
        "\n",
        "import os\n",
        "\n",
        "# Набор утилит для работы с файловой системой\n",
        "import shutil\n",
        "from keras import layers # импортируем слои\n",
        "from keras import models # импортируем модели\n",
        "from keras import optimizers  # импортируем функции оптимизации\n",
        "from tensorflow.keras.preprocessing.image import ImageDataGenerator\n",
        "\n",
        "# Папка с папками картинок, рассортированных по категориям\n",
        "IMAGE_PATH = './temp/training_set/training_set/'\n",
        "\n",
        "# Папка в которой будем создавать выборки\n",
        "BASE_DIR = './dataset/'\n",
        "\n",
        "# Определение списка имен классов\n",
        "CLASS_LIST = sorted(os.listdir(IMAGE_PATH))\n",
        "\n",
        "# Определение количества классов\n",
        "CLASS_COUNT = len(CLASS_LIST)\n",
        "\n",
        "# При повторном запуске пересоздаим структуру каталогов\n",
        "# Если папка существует, то удаляем ее со всеми вложенными каталогами и файлами\n",
        "if os.path.exists(BASE_DIR):\n",
        "    shutil.rmtree(BASE_DIR)\n",
        "\n",
        "# Создаем папку по пути BASE_DIR\n",
        "os.mkdir(BASE_DIR)\n",
        "\n",
        "# Сцепляем путь до папки с именем вложенной папки. Аналогично BASE_DIR + '/train'\n",
        "train_dir = os.path.join(BASE_DIR, 'train')\n",
        "\n",
        "# Создаем подпапку, используя путь\n",
        "os.mkdir(train_dir)\n",
        "\n",
        "# Сцепляем путь до папки с именем вложенной папки. Аналогично BASE_DIR + '/validation'\n",
        "validation_dir = os.path.join(BASE_DIR, 'validation')\n",
        "\n",
        "# Создаем подпапку, используя путь\n",
        "os.mkdir(validation_dir)\n",
        "\n",
        "# Сцепляем путь до папки с именем вложенной папки. Аналогично BASE_DIR + '/test'\n",
        "test_dir = os.path.join(BASE_DIR, 'test')\n",
        "\n",
        "# Создаем подпапку, используя путь\n",
        "os.mkdir(test_dir)\n",
        "\n",
        "# Функция создания подвыборок (папок с файлами)\n",
        "def create_dataset(\n",
        "    img_path: str,         # Путь к файлам с изображениями классов\n",
        "    new_path: str,         # Путь к папке с выборками\n",
        "    class_name: str,       # Имя класса (оно же и имя папки)\n",
        "    start_index: int,      # Стартовый индекс изображения, с которого начинаем подвыборку\n",
        "    end_index: int         # Конечный индекс изображения, до которого создаем подвыборку\n",
        "\n",
        "):\n",
        "\n",
        "    src_path = os.path.join(img_path, class_name)  # Полный путь к папке с изображениями класса\n",
        "    dst_path = os.path.join(new_path, class_name)  # Полный путь к папке с новым датасетом класса\n",
        "\n",
        "    # Получение списка имен файлов с изображениями текущего класса\n",
        "    class_files = os.listdir(src_path)\n",
        "\n",
        "    # Создаем подпапку, используя путь\n",
        "    os.mkdir(dst_path)\n",
        "\n",
        "    # Перебираем элементы, отобранного списка с начального по конечный индекс\n",
        "    for fname in class_files[start_index : end_index]:\n",
        "        # Путь к файлу (источник)\n",
        "        src = os.path.join(src_path, fname)\n",
        "        # Новый путь расположения файла (назначение)\n",
        "        dst = os.path.join(dst_path, fname)\n",
        "        # Копируем файл из источника в новое место (назначение)\n",
        "        shutil.copyfile(src, dst)\n",
        "\n",
        "\n",
        "for class_label in range(CLASS_COUNT):    # Перебор по всем классам по порядку номеров (их меток)\n",
        "    class_name = CLASS_LIST[class_label]  # Выборка имени класса из списка имен\n",
        "\n",
        "    # Создаем обучающую выборку для заданного класса из диапазона (0-1000)\n",
        "    create_dataset(IMAGE_PATH, train_dir, class_name, 0, 2000)\n",
        "    # Создаем проверочную выборку для заданного класса из диапазона (1000-1500)\n",
        "    create_dataset(IMAGE_PATH, validation_dir, class_name, 2000, 3000)\n",
        "    # Создаем тестовую выборку для заданного класса из диапазона (1500-2000)\n",
        "    create_dataset(IMAGE_PATH, test_dir, class_name, 3000, 4000)"
      ],
      "metadata": {
        "id": "Ag57SJBaWI-A",
        "colab": {
          "base_uri": "https://localhost:8080/"
        },
        "outputId": "b4c8e99b-e47f-4cca-f298-74c51478e9c4"
      },
      "execution_count": null,
      "outputs": [
        {
          "output_type": "stream",
          "name": "stdout",
          "text": [
            "--2024-09-30 21:44:22--  https://storage.yandexcloud.net/academy.ai/cat-and-dog.zip\n",
            "Resolving storage.yandexcloud.net (storage.yandexcloud.net)... 213.180.193.243, 2a02:6b8::1d9\n",
            "Connecting to storage.yandexcloud.net (storage.yandexcloud.net)|213.180.193.243|:443... connected.\n",
            "HTTP request sent, awaiting response... 200 OK\n",
            "Length: 228082266 (218M) [application/x-zip-compressed]\n",
            "Saving to: ‘cat-and-dog.zip’\n",
            "\n",
            "cat-and-dog.zip     100%[===================>] 217.52M  13.8MB/s    in 18s     \n",
            "\n",
            "2024-09-30 21:44:41 (12.0 MB/s) - ‘cat-and-dog.zip’ saved [228082266/228082266]\n",
            "\n"
          ]
        }
      ]
    },
    {
      "cell_type": "code",
      "source": [
        "import os                                                 # Для работы с файловой системой\n",
        "import numpy as np                                        # Работа с матрицами\n",
        "from tensorflow.keras.preprocessing.image import ImageDataGenerator  # Импортируем генератор изображений\n",
        "\n",
        "datagen = ImageDataGenerator(rescale=1./255) # Задаем генератор и нормализуем данные делением на 255\n",
        "batch_size = 20 # Размер батча (20 изображений)\n",
        "\n",
        "\n",
        "# Функция извлечения признаков\n",
        "def extract_features(directory, sample_count):\n",
        "    # определяем размерность признаков, заполняем нулями\n",
        "    features = np.zeros(shape=(sample_count, 4, 4, 1024))\n",
        "    # определяем размерность выходных меток, заполняем нулями\n",
        "    labels = np.zeros(shape=(sample_count))\n",
        "\n",
        "    # генерируем данные из папки\n",
        "    generator = datagen.flow_from_directory(\n",
        "        directory,                # путь к папке\n",
        "        target_size=(150, 150),   # изменить картинки до размера 150 х 150\n",
        "        batch_size=batch_size,    # размер пакета\n",
        "        class_mode='binary'       # задача бинарной классификации\n",
        "    )\n",
        "    i = 0\n",
        "    for inputs_batch, labels_batch in generator: # в цикле пошагово генерируем пакет с картинками и пакет из меток\n",
        "        features_batch = base_model.predict(inputs_batch, verbose=0) # делаем предсказание на сгенерируемом пакете\n",
        "        features[i * batch_size : (i + 1) * batch_size] = features_batch # складываем пакеты с признаками пачками в массив с признаками\n",
        "\n",
        "        labels[i * batch_size : (i + 1) * batch_size] = labels_batch     # складываем пакеты с метками в массив с метками\n",
        "        i += 1\n",
        "\n",
        "        if i * batch_size >= sample_count: # Прерываем генерацию, когда выходим за число желаемых примеров\n",
        "            break\n",
        "\n",
        "    return features, labels # возвращаем кортеж (признаки, метки)\n",
        "\n",
        "# Извлекаем (признаки, метки) для обучающей выборки, 2000 образцов\n",
        "train_features, train_labels = extract_features(train_dir, 2000)\n",
        "\n",
        "# Извлекаем (признаки, метки) для проверочной выборки, 1000 образцов\n",
        "validation_features, validation_labels = extract_features(validation_dir, 3000)\n",
        "\n",
        "# Извлекаем (признаки, метки) для тестовой выборки, 1000 образцов\n",
        "test_features, test_labels = extract_features(test_dir, 3000)"
      ],
      "metadata": {
        "colab": {
          "base_uri": "https://localhost:8080/"
        },
        "id": "YnjwEQncKBfJ",
        "outputId": "05d956c4-c77c-4cc7-e1e6-70a14c9af676"
      },
      "execution_count": null,
      "outputs": [
        {
          "output_type": "stream",
          "name": "stdout",
          "text": [
            "Found 4000 images belonging to 2 classes.\n",
            "Found 2000 images belonging to 2 classes.\n",
            "Found 2000 images belonging to 2 classes.\n"
          ]
        }
      ]
    },
    {
      "cell_type": "code",
      "source": [
        "train_features = np.reshape(train_features, (2000, 4 * 4 * 1024))              # приводим к форме (образцы, 16384) обучающие признаки\n",
        "validation_features = np.reshape(validation_features, (3000, 4 * 4 * 1024))    # приводим к форме (образцы, 16384) проверочные признаки\n",
        "test_features = np.reshape(test_features, (3000, 4 * 4 * 1024))                # приводим к форме (образцы, 16384) тестовые признаки"
      ],
      "metadata": {
        "id": "1P9RU4j7Owj-"
      },
      "execution_count": null,
      "outputs": []
    },
    {
      "cell_type": "code",
      "source": [
        "from keras import models\n",
        "from keras import layers\n",
        "from keras import optimizers\n",
        "from keras.optimizers import Adam\n",
        "model = models.Sequential()\n",
        "\n",
        "# изменяем размерность входа в соответствии с входной формой массива\n",
        "model.add(layers.Input(shape=(4 * 4 * 1024,)))\n",
        "model.add(layers.Dense(256, activation='relu'))\n",
        "model.add(layers.Dropout(0.5)) # Добавим прореживание для борьбы с переобучением\n",
        "model.add(layers.Dense(1, activation='sigmoid'))\n",
        "model.compile(\n",
        "    optimizer=optimizers.Adam(learning_rate=2e-5), # согласно условию задачи необходимо использовать оптимизатор Adam\n",
        "    loss='binary_crossentropy',\n",
        "    metrics=['acc']\n",
        ")\n",
        "\n",
        "# Обучаем модель на извлеченных признаках\n",
        "history = model.fit(\n",
        "    train_features, train_labels,\n",
        "    epochs=30,\n",
        "    batch_size=20,\n",
        "    validation_data=(validation_features, validation_labels)\n",
        ")"
      ],
      "metadata": {
        "colab": {
          "base_uri": "https://localhost:8080/"
        },
        "id": "ccRVwZqUPX8h",
        "outputId": "1b218605-2829-4547-9cd9-33948b62e044"
      },
      "execution_count": null,
      "outputs": [
        {
          "output_type": "stream",
          "name": "stdout",
          "text": [
            "Epoch 1/30\n",
            "\u001b[1m100/100\u001b[0m \u001b[32m━━━━━━━━━━━━━━━━━━━━\u001b[0m\u001b[37m\u001b[0m \u001b[1m10s\u001b[0m 70ms/step - acc: 0.7842 - loss: 0.6781 - val_acc: 0.9550 - val_loss: 0.1356\n",
            "Epoch 2/30\n",
            "\u001b[1m100/100\u001b[0m \u001b[32m━━━━━━━━━━━━━━━━━━━━\u001b[0m\u001b[37m\u001b[0m \u001b[1m6s\u001b[0m 57ms/step - acc: 0.9524 - loss: 0.1443 - val_acc: 0.9553 - val_loss: 0.1222\n",
            "Epoch 3/30\n",
            "\u001b[1m100/100\u001b[0m \u001b[32m━━━━━━━━━━━━━━━━━━━━\u001b[0m\u001b[37m\u001b[0m \u001b[1m10s\u001b[0m 54ms/step - acc: 0.9644 - loss: 0.0812 - val_acc: 0.9567 - val_loss: 0.1174\n",
            "Epoch 4/30\n",
            "\u001b[1m100/100\u001b[0m \u001b[32m━━━━━━━━━━━━━━━━━━━━\u001b[0m\u001b[37m\u001b[0m \u001b[1m7s\u001b[0m 65ms/step - acc: 0.9781 - loss: 0.0492 - val_acc: 0.9607 - val_loss: 0.1106\n",
            "Epoch 5/30\n",
            "\u001b[1m100/100\u001b[0m \u001b[32m━━━━━━━━━━━━━━━━━━━━\u001b[0m\u001b[37m\u001b[0m \u001b[1m9s\u001b[0m 58ms/step - acc: 0.9927 - loss: 0.0293 - val_acc: 0.9613 - val_loss: 0.1291\n",
            "Epoch 6/30\n",
            "\u001b[1m100/100\u001b[0m \u001b[32m━━━━━━━━━━━━━━━━━━━━\u001b[0m\u001b[37m\u001b[0m \u001b[1m10s\u001b[0m 53ms/step - acc: 0.9898 - loss: 0.0251 - val_acc: 0.9630 - val_loss: 0.1138\n",
            "Epoch 7/30\n",
            "\u001b[1m100/100\u001b[0m \u001b[32m━━━━━━━━━━━━━━━━━━━━\u001b[0m\u001b[37m\u001b[0m \u001b[1m6s\u001b[0m 64ms/step - acc: 0.9920 - loss: 0.0169 - val_acc: 0.9640 - val_loss: 0.1126\n",
            "Epoch 8/30\n",
            "\u001b[1m100/100\u001b[0m \u001b[32m━━━━━━━━━━━━━━━━━━━━\u001b[0m\u001b[37m\u001b[0m \u001b[1m9s\u001b[0m 54ms/step - acc: 0.9943 - loss: 0.0126 - val_acc: 0.9660 - val_loss: 0.1185\n",
            "Epoch 9/30\n",
            "\u001b[1m100/100\u001b[0m \u001b[32m━━━━━━━━━━━━━━━━━━━━\u001b[0m\u001b[37m\u001b[0m \u001b[1m10s\u001b[0m 54ms/step - acc: 0.9969 - loss: 0.0075 - val_acc: 0.9653 - val_loss: 0.1197\n",
            "Epoch 10/30\n",
            "\u001b[1m100/100\u001b[0m \u001b[32m━━━━━━━━━━━━━━━━━━━━\u001b[0m\u001b[37m\u001b[0m \u001b[1m6s\u001b[0m 65ms/step - acc: 0.9989 - loss: 0.0069 - val_acc: 0.9640 - val_loss: 0.1273\n",
            "Epoch 11/30\n",
            "\u001b[1m100/100\u001b[0m \u001b[32m━━━━━━━━━━━━━━━━━━━━\u001b[0m\u001b[37m\u001b[0m \u001b[1m9s\u001b[0m 57ms/step - acc: 0.9965 - loss: 0.0109 - val_acc: 0.9670 - val_loss: 0.1173\n",
            "Epoch 12/30\n",
            "\u001b[1m100/100\u001b[0m \u001b[32m━━━━━━━━━━━━━━━━━━━━\u001b[0m\u001b[37m\u001b[0m \u001b[1m6s\u001b[0m 61ms/step - acc: 0.9965 - loss: 0.0098 - val_acc: 0.9657 - val_loss: 0.1195\n",
            "Epoch 13/30\n",
            "\u001b[1m100/100\u001b[0m \u001b[32m━━━━━━━━━━━━━━━━━━━━\u001b[0m\u001b[37m\u001b[0m \u001b[1m10s\u001b[0m 64ms/step - acc: 0.9996 - loss: 0.0029 - val_acc: 0.9667 - val_loss: 0.1218\n",
            "Epoch 14/30\n",
            "\u001b[1m100/100\u001b[0m \u001b[32m━━━━━━━━━━━━━━━━━━━━\u001b[0m\u001b[37m\u001b[0m \u001b[1m9s\u001b[0m 54ms/step - acc: 0.9990 - loss: 0.0049 - val_acc: 0.9673 - val_loss: 0.1219\n",
            "Epoch 15/30\n",
            "\u001b[1m100/100\u001b[0m \u001b[32m━━━━━━━━━━━━━━━━━━━━\u001b[0m\u001b[37m\u001b[0m \u001b[1m6s\u001b[0m 64ms/step - acc: 0.9995 - loss: 0.0027 - val_acc: 0.9650 - val_loss: 0.1231\n",
            "Epoch 16/30\n",
            "\u001b[1m100/100\u001b[0m \u001b[32m━━━━━━━━━━━━━━━━━━━━\u001b[0m\u001b[37m\u001b[0m \u001b[1m5s\u001b[0m 53ms/step - acc: 0.9988 - loss: 0.0036 - val_acc: 0.9643 - val_loss: 0.1345\n",
            "Epoch 17/30\n",
            "\u001b[1m100/100\u001b[0m \u001b[32m━━━━━━━━━━━━━━━━━━━━\u001b[0m\u001b[37m\u001b[0m \u001b[1m10s\u001b[0m 53ms/step - acc: 0.9994 - loss: 0.0042 - val_acc: 0.9667 - val_loss: 0.1328\n",
            "Epoch 18/30\n",
            "\u001b[1m100/100\u001b[0m \u001b[32m━━━━━━━━━━━━━━━━━━━━\u001b[0m\u001b[37m\u001b[0m \u001b[1m10s\u001b[0m 54ms/step - acc: 0.9985 - loss: 0.0033 - val_acc: 0.9657 - val_loss: 0.1266\n",
            "Epoch 19/30\n",
            "\u001b[1m100/100\u001b[0m \u001b[32m━━━━━━━━━━━━━━━━━━━━\u001b[0m\u001b[37m\u001b[0m \u001b[1m11s\u001b[0m 65ms/step - acc: 1.0000 - loss: 0.0013 - val_acc: 0.9680 - val_loss: 0.1247\n",
            "Epoch 20/30\n",
            "\u001b[1m100/100\u001b[0m \u001b[32m━━━━━━━━━━━━━━━━━━━━\u001b[0m\u001b[37m\u001b[0m \u001b[1m10s\u001b[0m 64ms/step - acc: 1.0000 - loss: 0.0028 - val_acc: 0.9687 - val_loss: 0.1261\n",
            "Epoch 21/30\n",
            "\u001b[1m100/100\u001b[0m \u001b[32m━━━━━━━━━━━━━━━━━━━━\u001b[0m\u001b[37m\u001b[0m \u001b[1m9s\u001b[0m 53ms/step - acc: 1.0000 - loss: 0.0013 - val_acc: 0.9673 - val_loss: 0.1377\n",
            "Epoch 22/30\n",
            "\u001b[1m100/100\u001b[0m \u001b[32m━━━━━━━━━━━━━━━━━━━━\u001b[0m\u001b[37m\u001b[0m \u001b[1m6s\u001b[0m 64ms/step - acc: 1.0000 - loss: 9.8106e-04 - val_acc: 0.9683 - val_loss: 0.1287\n",
            "Epoch 23/30\n",
            "\u001b[1m100/100\u001b[0m \u001b[32m━━━━━━━━━━━━━━━━━━━━\u001b[0m\u001b[37m\u001b[0m \u001b[1m5s\u001b[0m 52ms/step - acc: 0.9996 - loss: 0.0018 - val_acc: 0.9667 - val_loss: 0.1268\n",
            "Epoch 24/30\n",
            "\u001b[1m100/100\u001b[0m \u001b[32m━━━━━━━━━━━━━━━━━━━━\u001b[0m\u001b[37m\u001b[0m \u001b[1m11s\u001b[0m 55ms/step - acc: 1.0000 - loss: 0.0016 - val_acc: 0.9670 - val_loss: 0.1375\n",
            "Epoch 25/30\n",
            "\u001b[1m100/100\u001b[0m \u001b[32m━━━━━━━━━━━━━━━━━━━━\u001b[0m\u001b[37m\u001b[0m \u001b[1m11s\u001b[0m 66ms/step - acc: 1.0000 - loss: 0.0014 - val_acc: 0.9680 - val_loss: 0.1308\n",
            "Epoch 26/30\n",
            "\u001b[1m100/100\u001b[0m \u001b[32m━━━━━━━━━━━━━━━━━━━━\u001b[0m\u001b[37m\u001b[0m \u001b[1m10s\u001b[0m 60ms/step - acc: 1.0000 - loss: 0.0011 - val_acc: 0.9687 - val_loss: 0.1306\n",
            "Epoch 27/30\n",
            "\u001b[1m100/100\u001b[0m \u001b[32m━━━━━━━━━━━━━━━━━━━━\u001b[0m\u001b[37m\u001b[0m \u001b[1m6s\u001b[0m 59ms/step - acc: 1.0000 - loss: 0.0015 - val_acc: 0.9677 - val_loss: 0.1254\n",
            "Epoch 28/30\n",
            "\u001b[1m100/100\u001b[0m \u001b[32m━━━━━━━━━━━━━━━━━━━━\u001b[0m\u001b[37m\u001b[0m \u001b[1m11s\u001b[0m 63ms/step - acc: 1.0000 - loss: 8.0361e-04 - val_acc: 0.9670 - val_loss: 0.1299\n",
            "Epoch 29/30\n",
            "\u001b[1m100/100\u001b[0m \u001b[32m━━━━━━━━━━━━━━━━━━━━\u001b[0m\u001b[37m\u001b[0m \u001b[1m10s\u001b[0m 57ms/step - acc: 1.0000 - loss: 7.5901e-04 - val_acc: 0.9657 - val_loss: 0.1373\n",
            "Epoch 30/30\n",
            "\u001b[1m100/100\u001b[0m \u001b[32m━━━━━━━━━━━━━━━━━━━━\u001b[0m\u001b[37m\u001b[0m \u001b[1m6s\u001b[0m 63ms/step - acc: 1.0000 - loss: 7.2543e-04 - val_acc: 0.9657 - val_loss: 0.1390\n"
          ]
        }
      ]
    },
    {
      "cell_type": "markdown",
      "source": [
        "### Выделение признаков с расширение данных"
      ],
      "metadata": {
        "id": "p-ETEYQzQHtF"
      }
    },
    {
      "cell_type": "code",
      "source": [
        "from keras import models\n",
        "from keras import layers\n",
        "model = models.Sequential()\n",
        "model.add(layers.Input(shape=(150, 150, 3)))\n",
        "model.add(base_model) # используем MobileNet\n",
        "model.add(layers.Flatten())\n",
        "model.add(layers.Dense(256, activation='relu'))\n",
        "model.add(layers.Dense(1, activation='sigmoid'))"
      ],
      "metadata": {
        "id": "RfhUSykaQHUJ"
      },
      "execution_count": null,
      "outputs": []
    },
    {
      "cell_type": "code",
      "source": [
        "print('Число обучаемых весов до заморозки:', len(model.trainable_weights))\n",
        "\n",
        "# замораживаем веса модели\n",
        "base_model.trainable = False\n",
        "\n",
        "print('Число обучаемых весов после заморозки:', len(model.trainable_weights))"
      ],
      "metadata": {
        "colab": {
          "base_uri": "https://localhost:8080/"
        },
        "id": "eoyqJLbJQX-t",
        "outputId": "e15c8d62-df1f-45a8-9c9d-69fac4d4cbc7"
      },
      "execution_count": null,
      "outputs": [
        {
          "output_type": "stream",
          "name": "stdout",
          "text": [
            "Число обучаемых весов до заморозки: 85\n",
            "Число обучаемых весов после заморозки: 4\n"
          ]
        }
      ]
    },
    {
      "cell_type": "markdown",
      "source": [
        "### Проведем аугментацию"
      ],
      "metadata": {
        "id": "stWzUw6IQdLv"
      }
    },
    {
      "cell_type": "code",
      "source": [
        "from tensorflow.keras.preprocessing.image import ImageDataGenerator\n",
        "from keras import optimizers\n",
        "\n",
        "# генератор для обучающей выборки\n",
        "train_datagen = ImageDataGenerator(\n",
        "    rescale=1./255,           # нормализация данных\n",
        "    rotation_range=40,        # поворот 40 градусов\n",
        "    width_shift_range=0.2,    # смещенние изображения по горизонтали\n",
        "    height_shift_range=0.2,   # смещенние изображения по вертикали\n",
        "    shear_range=0.2,          # случайный сдвиг\n",
        "    zoom_range=0.2,           # случайное масштабирование\n",
        "    horizontal_flip=True,     # отражение по горизонтали\n",
        "    fill_mode='nearest'       # стратегия заполнения пустых пикселей при трансформации\n",
        ")\n",
        "# генератор для проверочной выборки\n",
        "test_datagen = ImageDataGenerator(rescale=1./255)\n",
        "\n",
        "# генерация картинок из папки для обучающей выборки\n",
        "train_generator = train_datagen.flow_from_directory(\n",
        "    train_dir,\n",
        "    target_size=(150, 150),\n",
        "    batch_size=20,\n",
        "    class_mode='binary'\n",
        ")\n",
        "\n",
        "# генерация картинок из папки для проверочной выборки\n",
        "validation_generator = test_datagen.flow_from_directory(\n",
        "    validation_dir,\n",
        "    target_size=(150, 150),\n",
        "    batch_size=20,\n",
        "    class_mode='binary'\n",
        ")\n",
        "\n",
        "# компиляция модели\n",
        "model.compile(loss='binary_crossentropy',\n",
        "    optimizer=optimizers.Adam(learning_rate=2e-5),\n",
        "    metrics=['acc']\n",
        ")\n",
        "\n",
        "# обучаем модель\n",
        "history = model.fit(\n",
        "    train_generator,\n",
        "    epochs=10,\n",
        "    validation_data=validation_generator,\n",
        ")\n"
      ],
      "metadata": {
        "colab": {
          "base_uri": "https://localhost:8080/"
        },
        "id": "Ir-cq7mIQjf-",
        "outputId": "efbf8529-330e-4029-dd19-8a316ccd91e6"
      },
      "execution_count": null,
      "outputs": [
        {
          "output_type": "stream",
          "name": "stdout",
          "text": [
            "Found 4000 images belonging to 2 classes.\n",
            "Found 2000 images belonging to 2 classes.\n",
            "Epoch 1/10\n"
          ]
        },
        {
          "output_type": "stream",
          "name": "stderr",
          "text": [
            "/usr/local/lib/python3.10/dist-packages/keras/src/trainers/data_adapters/py_dataset_adapter.py:121: UserWarning: Your `PyDataset` class should call `super().__init__(**kwargs)` in its constructor. `**kwargs` can include `workers`, `use_multiprocessing`, `max_queue_size`. Do not pass these arguments to `fit()`, as they will be ignored.\n",
            "  self._warn_if_super_not_called()\n"
          ]
        },
        {
          "output_type": "stream",
          "name": "stdout",
          "text": [
            "\u001b[1m200/200\u001b[0m \u001b[32m━━━━━━━━━━━━━━━━━━━━\u001b[0m\u001b[37m\u001b[0m \u001b[1m148s\u001b[0m 719ms/step - acc: 0.8096 - loss: 0.5075 - val_acc: 0.9550 - val_loss: 0.1277\n",
            "Epoch 2/10\n",
            "\u001b[1m200/200\u001b[0m \u001b[32m━━━━━━━━━━━━━━━━━━━━\u001b[0m\u001b[37m\u001b[0m \u001b[1m134s\u001b[0m 663ms/step - acc: 0.9189 - loss: 0.1929 - val_acc: 0.9555 - val_loss: 0.1256\n",
            "Epoch 3/10\n",
            "\u001b[1m200/200\u001b[0m \u001b[32m━━━━━━━━━━━━━━━━━━━━\u001b[0m\u001b[37m\u001b[0m \u001b[1m128s\u001b[0m 597ms/step - acc: 0.9441 - loss: 0.1324 - val_acc: 0.9575 - val_loss: 0.1205\n",
            "Epoch 4/10\n",
            "\u001b[1m200/200\u001b[0m \u001b[32m━━━━━━━━━━━━━━━━━━━━\u001b[0m\u001b[37m\u001b[0m \u001b[1m141s\u001b[0m 595ms/step - acc: 0.9471 - loss: 0.1174 - val_acc: 0.9600 - val_loss: 0.1097\n",
            "Epoch 5/10\n",
            "\u001b[1m200/200\u001b[0m \u001b[32m━━━━━━━━━━━━━━━━━━━━\u001b[0m\u001b[37m\u001b[0m \u001b[1m121s\u001b[0m 602ms/step - acc: 0.9428 - loss: 0.1422 - val_acc: 0.9675 - val_loss: 0.0951\n",
            "Epoch 6/10\n",
            "\u001b[1m200/200\u001b[0m \u001b[32m━━━━━━━━━━━━━━━━━━━━\u001b[0m\u001b[37m\u001b[0m \u001b[1m118s\u001b[0m 582ms/step - acc: 0.9454 - loss: 0.1259 - val_acc: 0.9660 - val_loss: 0.1016\n",
            "Epoch 7/10\n",
            "\u001b[1m200/200\u001b[0m \u001b[32m━━━━━━━━━━━━━━━━━━━━\u001b[0m\u001b[37m\u001b[0m \u001b[1m118s\u001b[0m 584ms/step - acc: 0.9461 - loss: 0.1185 - val_acc: 0.9675 - val_loss: 0.0943\n",
            "Epoch 8/10\n",
            "\u001b[1m200/200\u001b[0m \u001b[32m━━━━━━━━━━━━━━━━━━━━\u001b[0m\u001b[37m\u001b[0m \u001b[1m119s\u001b[0m 587ms/step - acc: 0.9572 - loss: 0.1043 - val_acc: 0.9675 - val_loss: 0.0987\n",
            "Epoch 9/10\n",
            "\u001b[1m200/200\u001b[0m \u001b[32m━━━━━━━━━━━━━━━━━━━━\u001b[0m\u001b[37m\u001b[0m \u001b[1m139s\u001b[0m 579ms/step - acc: 0.9561 - loss: 0.1080 - val_acc: 0.9635 - val_loss: 0.0898\n",
            "Epoch 10/10\n",
            "\u001b[1m200/200\u001b[0m \u001b[32m━━━━━━━━━━━━━━━━━━━━\u001b[0m\u001b[37m\u001b[0m \u001b[1m163s\u001b[0m 681ms/step - acc: 0.9628 - loss: 0.0922 - val_acc: 0.9665 - val_loss: 0.1051\n"
          ]
        }
      ]
    },
    {
      "cell_type": "code",
      "source": [
        "import matplotlib.pyplot as plt\n",
        "# Рисуем графики\n",
        "def show_history(store):\n",
        "    acc = store.history['acc']\n",
        "    val_acc = store.history['val_acc']\n",
        "    loss = store.history['loss']\n",
        "    val_loss = store.history['val_loss']\n",
        "    epochs = range(1, len(acc) + 1)\n",
        "    plt.plot(epochs, acc, 'r', label='Точность на обучающей выборке')\n",
        "    plt.plot(epochs, val_acc, 'b', label='Точность на контрольной выборке')\n",
        "    plt.title('График точности на контрольной и обучающей выборках')\n",
        "    plt.legend()\n",
        "\n",
        "    plt.figure()\n",
        "    plt.plot(epochs, loss, 'r', label='Потери на обучающей выборке')\n",
        "    plt.plot(epochs, val_loss, 'b', label='Потери на контрольной выборке')\n",
        "    plt.title('График потерь на контрольной и обучающей выборках')\n",
        "    plt.legend()\n",
        "    plt.show()"
      ],
      "metadata": {
        "id": "9YelNhmL1oiT"
      },
      "execution_count": null,
      "outputs": []
    },
    {
      "cell_type": "code",
      "source": [
        "show_history(history)"
      ],
      "metadata": {
        "colab": {
          "base_uri": "https://localhost:8080/",
          "height": 887
        },
        "id": "bWrtOdgY2t7G",
        "outputId": "8772a30d-5812-43a5-f29f-955d92490787"
      },
      "execution_count": null,
      "outputs": [
        {
          "output_type": "display_data",
          "data": {
            "text/plain": [
              "<Figure size 640x480 with 1 Axes>"
            ],
            "image/png": "[encoded data removed]"
          },
          "metadata": {}
        },
        {
          "output_type": "display_data",
          "data": {
            "text/plain": [
              "<Figure size 640x480 with 1 Axes>"
            ],
            "image/png": "[encoded data removed]"
          },
          "metadata": {}
        }
      ]
    },
    {
      "cell_type": "code",
      "source": [
        "test_generator = test_datagen.flow_from_directory(\n",
        "    test_dir,\n",
        "    target_size=(150, 150),\n",
        "    batch_size=20,\n",
        "    class_mode='binary'\n",
        ")\n",
        "\n",
        "test_loss, test_acc = model.evaluate(test_generator, steps=50)\n",
        "print('Точность на контрольной выборке:', test_acc)"
      ],
      "metadata": {
        "colab": {
          "base_uri": "https://localhost:8080/"
        },
        "id": "qOVX3bSCANHx",
        "outputId": "b99d28a0-ed8b-4b93-f7b3-bc442093c9ee"
      },
      "execution_count": null,
      "outputs": [
        {
          "output_type": "stream",
          "name": "stdout",
          "text": [
            "Found 2000 images belonging to 2 classes.\n",
            "\u001b[1m50/50\u001b[0m \u001b[32m━━━━━━━━━━━━━━━━━━━━\u001b[0m\u001b[37m\u001b[0m \u001b[1m18s\u001b[0m 362ms/step - acc: 0.9672 - loss: 0.0789\n",
            "Точность на контрольной выборке: 0.9649999737739563\n"
          ]
        }
      ]
    }
  ]
}